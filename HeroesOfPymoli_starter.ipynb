{
 "cells": [
  {
   "cell_type": "markdown",
   "metadata": {},
   "source": [
    "### Note\n",
    "* Instructions have been included for each segment. You do not have to follow them exactly, but they are included to help you think through the steps."
   ]
  },
  {
   "cell_type": "code",
   "execution_count": 1,
   "metadata": {},
   "outputs": [
    {
     "data": {
      "text/html": "<div>\n<style scoped>\n    .dataframe tbody tr th:only-of-type {\n        vertical-align: middle;\n    }\n\n    .dataframe tbody tr th {\n        vertical-align: top;\n    }\n\n    .dataframe thead th {\n        text-align: right;\n    }\n</style>\n<table border=\"1\" class=\"dataframe\">\n  <thead>\n    <tr style=\"text-align: right;\">\n      <th></th>\n      <th>Purchase ID</th>\n      <th>SN</th>\n      <th>Age</th>\n      <th>Gender</th>\n      <th>Item ID</th>\n      <th>Item Name</th>\n      <th>Price</th>\n    </tr>\n  </thead>\n  <tbody>\n    <tr>\n      <th>0</th>\n      <td>0</td>\n      <td>Lisim78</td>\n      <td>20</td>\n      <td>Male</td>\n      <td>108</td>\n      <td>Extraction, Quickblade Of Trembling Hands</td>\n      <td>3.53</td>\n    </tr>\n    <tr>\n      <th>1</th>\n      <td>1</td>\n      <td>Lisovynya38</td>\n      <td>40</td>\n      <td>Male</td>\n      <td>143</td>\n      <td>Frenzied Scimitar</td>\n      <td>1.56</td>\n    </tr>\n    <tr>\n      <th>2</th>\n      <td>2</td>\n      <td>Ithergue48</td>\n      <td>24</td>\n      <td>Male</td>\n      <td>92</td>\n      <td>Final Critic</td>\n      <td>4.88</td>\n    </tr>\n    <tr>\n      <th>3</th>\n      <td>3</td>\n      <td>Chamassasya86</td>\n      <td>24</td>\n      <td>Male</td>\n      <td>100</td>\n      <td>Blindscythe</td>\n      <td>3.27</td>\n    </tr>\n    <tr>\n      <th>4</th>\n      <td>4</td>\n      <td>Iskosia90</td>\n      <td>23</td>\n      <td>Male</td>\n      <td>131</td>\n      <td>Fury</td>\n      <td>1.44</td>\n    </tr>\n  </tbody>\n</table>\n</div>",
      "text/plain": "   Purchase ID             SN  Age Gender  Item ID  \\\n0            0        Lisim78   20   Male      108   \n1            1    Lisovynya38   40   Male      143   \n2            2     Ithergue48   24   Male       92   \n3            3  Chamassasya86   24   Male      100   \n4            4      Iskosia90   23   Male      131   \n\n                                   Item Name  Price  \n0  Extraction, Quickblade Of Trembling Hands   3.53  \n1                          Frenzied Scimitar   1.56  \n2                               Final Critic   4.88  \n3                                Blindscythe   3.27  \n4                                       Fury   1.44  "
     },
     "execution_count": 1,
     "metadata": {},
     "output_type": "execute_result"
    }
   ],
   "source": [
    "# Dependencies and Setup\n",
    "import pandas as pd\n",
    "import math\n",
    "\n",
    "# File to Load (Remember to Change These)\n",
    "file_to_load = \"../../CWR-CLE-DATA-PT-01-2020-U-C/04-Pandas/Homework/HeroesOfPymoli/Resources/purchase_data.csv\"\n",
    "\n",
    "# Read Purchasing File and store into Pandas data frame\n",
    "purchase_data = pd.read_csv(file_to_load)\n",
    "purchase_data.head()"
   ]
  },
  {
   "cell_type": "markdown",
   "metadata": {},
   "source": [
    "## Player Count"
   ]
  },
  {
   "cell_type": "markdown",
   "metadata": {},
   "source": [
    "* Display the total number of players\n"
   ]
  },
  {
   "cell_type": "code",
   "execution_count": 2,
   "metadata": {},
   "outputs": [
    {
     "data": {
      "text/html": "<div>\n<style scoped>\n    .dataframe tbody tr th:only-of-type {\n        vertical-align: middle;\n    }\n\n    .dataframe tbody tr th {\n        vertical-align: top;\n    }\n\n    .dataframe thead th {\n        text-align: right;\n    }\n</style>\n<table border=\"1\" class=\"dataframe\">\n  <thead>\n    <tr style=\"text-align: right;\">\n      <th></th>\n      <th>Total Players</th>\n    </tr>\n  </thead>\n  <tbody>\n    <tr>\n      <th>0</th>\n      <td>576</td>\n    </tr>\n  </tbody>\n</table>\n</div>",
      "text/plain": "   Total Players\n0            576"
     },
     "execution_count": 2,
     "metadata": {},
     "output_type": "execute_result"
    }
   ],
   "source": [
    "purchase_data[\"Price\"].map('${:,.2f}'.format)\n",
    "\n",
    "\n",
    "totalplayers = purchase_data[\"SN\"].nunique()\n",
    "\n",
    "totalplayers_df = pd.DataFrame({\"Total Players\" : [totalplayers]})\n",
    "\n",
    "totalplayers_df\n",
    "\n"
   ]
  },
  {
   "cell_type": "markdown",
   "metadata": {},
   "source": [
    "## Purchasing Analysis (Total)"
   ]
  },
  {
   "cell_type": "markdown",
   "metadata": {},
   "source": [
    "* Run basic calculations to obtain number of unique items, average price, etc.\n",
    "\n",
    "\n",
    "* Create a summary data frame to hold the results\n",
    "\n",
    "\n",
    "* Optional: give the displayed data cleaner formatting\n",
    "\n",
    "\n",
    "* Display the summary data frame\n"
   ]
  },
  {
   "cell_type": "code",
   "execution_count": 3,
   "metadata": {},
   "outputs": [
    {
     "data": {
      "text/html": "<div>\n<style scoped>\n    .dataframe tbody tr th:only-of-type {\n        vertical-align: middle;\n    }\n\n    .dataframe tbody tr th {\n        vertical-align: top;\n    }\n\n    .dataframe thead th {\n        text-align: right;\n    }\n</style>\n<table border=\"1\" class=\"dataframe\">\n  <thead>\n    <tr style=\"text-align: right;\">\n      <th></th>\n      <th>Unique Items</th>\n      <th>Average Price</th>\n      <th>Total Purchases</th>\n      <th>Total Revenue</th>\n    </tr>\n  </thead>\n  <tbody>\n    <tr>\n      <th>0</th>\n      <td>179</td>\n      <td>$3.05</td>\n      <td>780</td>\n      <td>$2,379.77</td>\n    </tr>\n  </tbody>\n</table>\n</div>",
      "text/plain": "   Unique Items Average Price  Total Purchases Total Revenue\n0           179         $3.05              780     $2,379.77"
     },
     "execution_count": 3,
     "metadata": {},
     "output_type": "execute_result"
    }
   ],
   "source": [
    "uniqueitems= purchase_data[\"Item Name\"].nunique()\n",
    "avgprice= purchase_data[\"Price\"].mean()\n",
    "totalpurchases = len(purchase_data[\"SN\"])\n",
    "totalrevenue = purchase_data[\"Price\"].sum()\n",
    "\n",
    "purchasing_df = pd.DataFrame({\"Unique Items\": [uniqueitems], \"Average Price\": [avgprice], \"Total Purchases\": [totalpurchases],\"Total Revenue\":[totalrevenue]})\n",
    "\n",
    "purchasing_df[\"Average Price\"] = purchasing_df[\"Average Price\"].map('${:,.2f}'.format)\n",
    "purchasing_df[\"Total Revenue\"] = purchasing_df[\"Total Revenue\"].map('${:,.2f}'.format)\n",
    "\n",
    "purchasing_df"
   ]
  },
  {
   "cell_type": "markdown",
   "metadata": {},
   "source": [
    "## Gender Demographics"
   ]
  },
  {
   "cell_type": "markdown",
   "metadata": {},
   "source": [
    "* Percentage and Count of Male Players\n",
    "\n",
    "\n",
    "* Percentage and Count of Female Players\n",
    "\n",
    "\n",
    "* Percentage and Count of Other / Non-Disclosed\n",
    "\n",
    "\n"
   ]
  },
  {
   "cell_type": "code",
   "execution_count": 4,
   "metadata": {},
   "outputs": [
    {
     "data": {
      "text/html": "<style  type=\"text/css\" >\n</style><table id=\"T_f5b91fc2_60ea_11ea_8a5e_8c8590bdb84a\" ><thead>    <tr>        <th class=\"blank level0\" ></th>        <th class=\"col_heading level0 col0\" >Total Players</th>        <th class=\"col_heading level0 col1\" >Percentage of Total Players</th>    </tr>    <tr>        <th class=\"index_name level0\" >Gender</th>        <th class=\"blank\" ></th>        <th class=\"blank\" ></th>    </tr></thead><tbody>\n                <tr>\n                        <th id=\"T_f5b91fc2_60ea_11ea_8a5e_8c8590bdb84alevel0_row0\" class=\"row_heading level0 row0\" >Female</th>\n                        <td id=\"T_f5b91fc2_60ea_11ea_8a5e_8c8590bdb84arow0_col0\" class=\"data row0 col0\" >81</td>\n                        <td id=\"T_f5b91fc2_60ea_11ea_8a5e_8c8590bdb84arow0_col1\" class=\"data row0 col1\" >14.06%</td>\n            </tr>\n            <tr>\n                        <th id=\"T_f5b91fc2_60ea_11ea_8a5e_8c8590bdb84alevel0_row1\" class=\"row_heading level0 row1\" >Male</th>\n                        <td id=\"T_f5b91fc2_60ea_11ea_8a5e_8c8590bdb84arow1_col0\" class=\"data row1 col0\" >484</td>\n                        <td id=\"T_f5b91fc2_60ea_11ea_8a5e_8c8590bdb84arow1_col1\" class=\"data row1 col1\" >84.03%</td>\n            </tr>\n            <tr>\n                        <th id=\"T_f5b91fc2_60ea_11ea_8a5e_8c8590bdb84alevel0_row2\" class=\"row_heading level0 row2\" >Other / Non-Disclosed</th>\n                        <td id=\"T_f5b91fc2_60ea_11ea_8a5e_8c8590bdb84arow2_col0\" class=\"data row2 col0\" >11</td>\n                        <td id=\"T_f5b91fc2_60ea_11ea_8a5e_8c8590bdb84arow2_col1\" class=\"data row2 col1\" >1.91%</td>\n            </tr>\n    </tbody></table>",
      "text/plain": "<pandas.io.formats.style.Styler at 0x10a5ba710>"
     },
     "execution_count": 4,
     "metadata": {},
     "output_type": "execute_result"
    }
   ],
   "source": [
    "genderstart=purchase_data[[\"SN\",\"Gender\"]]\n",
    "\n",
    "gender_df = pd.DataFrame(genderstart)\n",
    "gender_df.drop_duplicates(subset = \"SN\", keep = \"first\", inplace= True)\n",
    "gender_df.rename(columns= {\"SN\" : \"Total Players\"}, inplace = True)\n",
    "\n",
    "grouped_gender = gender_df.groupby(\"Gender\")\n",
    "counts = grouped_gender.count()\n",
    "\n",
    "gender_purchase_df = pd.DataFrame(counts)\n",
    "\n",
    "percentages = gender_purchase_df[\"Total Players\"]/totalplayers_df[\"Total Players\"].sum()\n",
    "\n",
    "gender_purchase_df[\"Percentage of Total Players\"] = percentages\n",
    "\n",
    "\n",
    "\n",
    "gender_purchase_df.style.format({'Percentage of Total Players' : \"{:.2%}\"})"
   ]
  },
  {
   "cell_type": "markdown",
   "metadata": {},
   "source": [
    "\n",
    "## Purchasing Analysis (Gender)"
   ]
  },
  {
   "cell_type": "markdown",
   "metadata": {},
   "source": [
    "* Run basic calculations to obtain purchase count, avg. purchase price, avg. purchase total per person etc. by gender\n",
    "\n",
    "\n",
    "\n",
    "\n",
    "* Create a summary data frame to hold the results\n",
    "\n",
    "\n",
    "* Optional: give the displayed data cleaner formatting\n",
    "\n",
    "\n",
    "* Display the summary data frame"
   ]
  },
  {
   "cell_type": "code",
   "execution_count": 5,
   "metadata": {},
   "outputs": [
    {
     "data": {
      "text/html": "<div>\n<style scoped>\n    .dataframe tbody tr th:only-of-type {\n        vertical-align: middle;\n    }\n\n    .dataframe tbody tr th {\n        vertical-align: top;\n    }\n\n    .dataframe thead th {\n        text-align: right;\n    }\n</style>\n<table border=\"1\" class=\"dataframe\">\n  <thead>\n    <tr style=\"text-align: right;\">\n      <th></th>\n      <th>Purchase Count</th>\n      <th>Average Purchase Price</th>\n      <th>Total Purchase Value</th>\n      <th>Average Total Purchase per Person</th>\n    </tr>\n    <tr>\n      <th>Gender</th>\n      <th></th>\n      <th></th>\n      <th></th>\n      <th></th>\n    </tr>\n  </thead>\n  <tbody>\n    <tr>\n      <th>Female</th>\n      <td>113</td>\n      <td>$3.20</td>\n      <td>$361.94</td>\n      <td>$4.47</td>\n    </tr>\n    <tr>\n      <th>Male</th>\n      <td>652</td>\n      <td>$3.02</td>\n      <td>$1,967.64</td>\n      <td>$4.07</td>\n    </tr>\n    <tr>\n      <th>Other / Non-Disclosed</th>\n      <td>15</td>\n      <td>$3.35</td>\n      <td>$50.19</td>\n      <td>$4.56</td>\n    </tr>\n  </tbody>\n</table>\n</div>",
      "text/plain": "                       Purchase Count Average Purchase Price  \\\nGender                                                         \nFemale                            113                  $3.20   \nMale                              652                  $3.02   \nOther / Non-Disclosed              15                  $3.35   \n\n                      Total Purchase Value Average Total Purchase per Person  \nGender                                                                        \nFemale                             $361.94                             $4.47  \nMale                             $1,967.64                             $4.07  \nOther / Non-Disclosed               $50.19                             $4.56  "
     },
     "execution_count": 5,
     "metadata": {},
     "output_type": "execute_result"
    }
   ],
   "source": [
    "total_gender_df = purchase_data.groupby(\"Gender\")\n",
    "\n",
    "\n",
    "total_counts = pd.DataFrame(total_gender_df[\"Purchase ID\"].count())\n",
    "avgprice_gender = pd.DataFrame(total_gender_df[\"Price\"].mean())\n",
    "totalprice_gender = pd.DataFrame(total_gender_df[\"Price\"].sum())\n",
    "\n",
    "\n",
    "total_counts.rename(columns= {\"Purchase ID\" : \"Purchase Count\"}, inplace = True)\n",
    "avgprice_gender.rename(columns= {\"Price\" : \"Average Purchase Price\"}, inplace = True)  \n",
    "totalprice_gender.rename(columns= {\"Price\" : \"Total Purchase Value\"}, inplace = True)\n",
    "\n",
    "all_together = pd.DataFrame()\n",
    "\n",
    "all_together[\"Purchase Count\"] = total_counts[\"Purchase Count\"]\n",
    "all_together[\"Average Purchase Price\"] = avgprice_gender[\"Average Purchase Price\"]\n",
    "all_together[\"Total Purchase Value\"] = totalprice_gender[\"Total Purchase Value\"]\n",
    "\n",
    "avg_purchase = all_together[\"Total Purchase Value\"]/gender_purchase_df[\"Total Players\"]\n",
    "all_together[\"Average Total Purchase per Person\"] = avg_purchase\n",
    "\n",
    "all_together[\"Average Purchase Price\"] = all_together[\"Average Purchase Price\"].map('${:,.2f}'.format)\n",
    "all_together[\"Total Purchase Value\"] = all_together[\"Total Purchase Value\"].map('${:,.2f}'.format)\n",
    "all_together[\"Average Total Purchase per Person\"] = all_together[\"Average Total Purchase per Person\"].map('${:,.2f}'.format)\n",
    "\n",
    "all_together"
   ]
  },
  {
   "cell_type": "code",
   "execution_count": null,
   "metadata": {},
   "outputs": [],
   "source": [
    "## Age Demographics"
   ]
  },
  {
   "cell_type": "code",
   "execution_count": 7,
   "metadata": {},
   "outputs": [
    {
     "ename": "SyntaxError",
     "evalue": "invalid syntax (<ipython-input-7-3ab5cd5dfbfc>, line 1)",
     "output_type": "error",
     "traceback": [
      "\u001b[0;36m  File \u001b[0;32m\"<ipython-input-7-3ab5cd5dfbfc>\"\u001b[0;36m, line \u001b[0;32m1\u001b[0m\n\u001b[0;31m    * Establish bins for ages\u001b[0m\n\u001b[0m                   ^\u001b[0m\n\u001b[0;31mSyntaxError\u001b[0m\u001b[0;31m:\u001b[0m invalid syntax\n"
     ]
    }
   ],
   "source": [
    "* Establish bins for ages\n",
    "\n",
    "\n",
    "* Categorize the existing players using the age bins. Hint: use pd.cut()\n",
    "\n",
    "\n",
    "* Calculate the numbers and percentages by age group\n",
    "\n",
    "\n",
    "* Create a summary data frame to hold the results\n",
    "\n",
    "\n",
    "* Optional: round the percentage column to two decimal points\n",
    "\n",
    "\n",
    "* Display Age Demographics Table\n"
   ]
  },
  {
   "cell_type": "code",
   "execution_count": 8,
   "metadata": {},
   "outputs": [
    {
     "data": {
      "text/html": "<div>\n<style scoped>\n    .dataframe tbody tr th:only-of-type {\n        vertical-align: middle;\n    }\n\n    .dataframe tbody tr th {\n        vertical-align: top;\n    }\n\n    .dataframe thead th {\n        text-align: right;\n    }\n</style>\n<table border=\"1\" class=\"dataframe\">\n  <thead>\n    <tr style=\"text-align: right;\">\n      <th></th>\n      <th>Total Count</th>\n      <th>Percentage of Players</th>\n    </tr>\n    <tr>\n      <th>Age Group</th>\n      <th></th>\n      <th></th>\n    </tr>\n  </thead>\n  <tbody>\n    <tr>\n      <th>&lt;10</th>\n      <td>17</td>\n      <td>2.95%</td>\n    </tr>\n    <tr>\n      <th>10-14</th>\n      <td>22</td>\n      <td>3.82%</td>\n    </tr>\n    <tr>\n      <th>15-19</th>\n      <td>107</td>\n      <td>18.58%</td>\n    </tr>\n    <tr>\n      <th>20-24</th>\n      <td>258</td>\n      <td>44.79%</td>\n    </tr>\n    <tr>\n      <th>25-29</th>\n      <td>77</td>\n      <td>13.37%</td>\n    </tr>\n    <tr>\n      <th>30-34</th>\n      <td>52</td>\n      <td>9.03%</td>\n    </tr>\n    <tr>\n      <th>35-39</th>\n      <td>31</td>\n      <td>5.38%</td>\n    </tr>\n    <tr>\n      <th>40+</th>\n      <td>12</td>\n      <td>2.08%</td>\n    </tr>\n  </tbody>\n</table>\n</div>",
      "text/plain": "           Total Count Percentage of Players\nAge Group                                   \n<10                 17                 2.95%\n10-14               22                 3.82%\n15-19              107                18.58%\n20-24              258                44.79%\n25-29               77                13.37%\n30-34               52                 9.03%\n35-39               31                 5.38%\n40+                 12                 2.08%"
     },
     "execution_count": 8,
     "metadata": {},
     "output_type": "execute_result"
    }
   ],
   "source": [
    "purchase_data[\"Age\"].min()\n",
    "purchase_data[\"Age\"].max()\n",
    "\n",
    "bins = [0,9,14,19,24,29,34,39,45]\n",
    "group_names= [\"<10\",\"10-14\", \"15-19\", \"20-24\", \"25-29\", \"30-34\", \"35-39\", \"40+\"]\n",
    "\n",
    "purchase_data[\"Age Group\"] = pd.cut(purchase_data[\"Age\"],bins,labels=group_names)\n",
    "\n",
    "\n",
    "age_grouped = purchase_data.groupby(\"Age Group\").agg(\"nunique\")\n",
    "sn = pd.DataFrame(age_grouped[[\"SN\"]])\n",
    "perc_by_age = sn[\"SN\"]/sn[\"SN\"].sum()\n",
    "\n",
    "sn[\"Percentage of Players\"] = perc_by_age\n",
    "\n",
    "sn.rename(columns= {\"SN\": \"Total Count\"}, inplace=True)\n",
    "\n",
    "sn[\"Percentage of Players\"] = sn[\"Percentage of Players\"].map(\"{:.2%}\".format)\n",
    "\n",
    "sn"
   ]
  },
  {
   "cell_type": "markdown",
   "metadata": {},
   "source": [
    "## Purchasing Analysis (Age)"
   ]
  },
  {
   "cell_type": "markdown",
   "metadata": {},
   "source": [
    "* Bin the purchase_data data frame by age\n",
    "\n",
    "\n",
    "* Run basic calculations to obtain purchase count, avg. purchase price, avg. purchase total per person etc. in the table below\n",
    "\n",
    "\n",
    "* Create a summary data frame to hold the results\n",
    "\n",
    "\n",
    "* Optional: give the displayed data cleaner formatting\n",
    "\n",
    "\n",
    "* Display the summary data frame"
   ]
  },
  {
   "cell_type": "code",
   "execution_count": 9,
   "metadata": {},
   "outputs": [
    {
     "data": {
      "text/html": "<div>\n<style scoped>\n    .dataframe tbody tr th:only-of-type {\n        vertical-align: middle;\n    }\n\n    .dataframe tbody tr th {\n        vertical-align: top;\n    }\n\n    .dataframe thead th {\n        text-align: right;\n    }\n</style>\n<table border=\"1\" class=\"dataframe\">\n  <thead>\n    <tr style=\"text-align: right;\">\n      <th></th>\n      <th>Purchase Count</th>\n      <th>Average Purchase Price</th>\n      <th>Total Purchase Value</th>\n      <th>Avg Total Purchase per Person</th>\n    </tr>\n    <tr>\n      <th>Age Group</th>\n      <th></th>\n      <th></th>\n      <th></th>\n      <th></th>\n    </tr>\n  </thead>\n  <tbody>\n    <tr>\n      <th>&lt;10</th>\n      <td>23</td>\n      <td>$3.35</td>\n      <td>$77.13</td>\n      <td>$4.54</td>\n    </tr>\n    <tr>\n      <th>10-14</th>\n      <td>28</td>\n      <td>$2.96</td>\n      <td>$82.78</td>\n      <td>$3.76</td>\n    </tr>\n    <tr>\n      <th>15-19</th>\n      <td>136</td>\n      <td>$3.04</td>\n      <td>$412.89</td>\n      <td>$3.86</td>\n    </tr>\n    <tr>\n      <th>20-24</th>\n      <td>365</td>\n      <td>$3.05</td>\n      <td>$1,114.06</td>\n      <td>$4.32</td>\n    </tr>\n    <tr>\n      <th>25-29</th>\n      <td>101</td>\n      <td>$2.90</td>\n      <td>$293.00</td>\n      <td>$3.81</td>\n    </tr>\n    <tr>\n      <th>30-34</th>\n      <td>73</td>\n      <td>$2.93</td>\n      <td>$214.00</td>\n      <td>$4.12</td>\n    </tr>\n    <tr>\n      <th>35-39</th>\n      <td>41</td>\n      <td>$3.60</td>\n      <td>$147.67</td>\n      <td>$4.76</td>\n    </tr>\n    <tr>\n      <th>40+</th>\n      <td>13</td>\n      <td>$2.94</td>\n      <td>$38.24</td>\n      <td>$3.19</td>\n    </tr>\n  </tbody>\n</table>\n</div>",
      "text/plain": "           Purchase Count Average Purchase Price Total Purchase Value  \\\nAge Group                                                               \n<10                    23                  $3.35               $77.13   \n10-14                  28                  $2.96               $82.78   \n15-19                 136                  $3.04              $412.89   \n20-24                 365                  $3.05            $1,114.06   \n25-29                 101                  $2.90              $293.00   \n30-34                  73                  $2.93              $214.00   \n35-39                  41                  $3.60              $147.67   \n40+                    13                  $2.94               $38.24   \n\n          Avg Total Purchase per Person  \nAge Group                                \n<10                               $4.54  \n10-14                             $3.76  \n15-19                             $3.86  \n20-24                             $4.32  \n25-29                             $3.81  \n30-34                             $4.12  \n35-39                             $4.76  \n40+                               $3.19  "
     },
     "execution_count": 9,
     "metadata": {},
     "output_type": "execute_result"
    }
   ],
   "source": [
    "age_grouped_whole = purchase_data.groupby(\"Age Group\")\n",
    "\n",
    "\n",
    "age_total_counts = pd.DataFrame(age_grouped_whole[\"Purchase ID\"].count())\n",
    "avgprice_age = pd.DataFrame(age_grouped_whole[\"Price\"].mean())\n",
    "totalprice_age = pd.DataFrame(age_grouped_whole[\"Price\"].sum())\n",
    "\n",
    "purchase_data_whole = pd.DataFrame()\n",
    "\n",
    "purchase_data_whole[\"PC\"] = age_total_counts[\"Purchase ID\"]\n",
    "purchase_data_whole[\"APP\"] = avgprice_age[\"Price\"]\n",
    "purchase_data_whole[\"TVP\"] = totalprice_age[\"Price\"]\n",
    "\n",
    "percentages2 = purchase_data_whole[\"TVP\"]/sn[\"Total Count\"]\n",
    "\n",
    "purchase_data_whole[\"Avg Total Purchase per Person\"] = percentages2\n",
    "\n",
    "purchase_data_whole[\"APP\"] = purchase_data_whole[\"APP\"].map('${:,.2f}'.format)\n",
    "purchase_data_whole[\"TVP\"] = purchase_data_whole[\"TVP\"].map('${:,.2f}'.format)\n",
    "purchase_data_whole[\"Avg Total Purchase per Person\"] = purchase_data_whole[\"Avg Total Purchase per Person\"].map('${:,.2f}'.format)\n",
    "\n",
    "\n",
    "purchase_data_whole.rename(columns={\"PC\": \"Purchase Count\", \"APP\" : \"Average Purchase Price\", \"TVP\" : \"Total Purchase Value\"},inplace=True)\n",
    "\n",
    "\n",
    "purchase_data_whole\n"
   ]
  },
  {
   "cell_type": "markdown",
   "metadata": {},
   "source": [
    "## Top Spenders"
   ]
  },
  {
   "cell_type": "markdown",
   "metadata": {},
   "source": [
    "* Run basic calculations to obtain the results in the table below\n",
    "\n",
    "\n",
    "* Create a summary data frame to hold the results\n",
    "\n",
    "\n",
    "* Sort the total purchase value column in descending order\n",
    "\n",
    "\n",
    "* Optional: give the displayed data cleaner formatting\n",
    "\n",
    "\n",
    "* Display a preview of the summary data frame\n",
    "\n"
   ]
  },
  {
   "cell_type": "code",
   "execution_count": 10,
   "metadata": {},
   "outputs": [
    {
     "data": {
      "text/html": "<div>\n<style scoped>\n    .dataframe tbody tr th:only-of-type {\n        vertical-align: middle;\n    }\n\n    .dataframe tbody tr th {\n        vertical-align: top;\n    }\n\n    .dataframe thead th {\n        text-align: right;\n    }\n</style>\n<table border=\"1\" class=\"dataframe\">\n  <thead>\n    <tr style=\"text-align: right;\">\n      <th></th>\n      <th>Purchase Count</th>\n      <th>Average Purchase Price</th>\n      <th>Total Purchase Value</th>\n    </tr>\n    <tr>\n      <th>SN</th>\n      <th></th>\n      <th></th>\n      <th></th>\n    </tr>\n  </thead>\n  <tbody>\n    <tr>\n      <th>Lisosia93</th>\n      <td>5</td>\n      <td>$3.79</td>\n      <td>$18.96</td>\n    </tr>\n    <tr>\n      <th>Iral74</th>\n      <td>4</td>\n      <td>$3.40</td>\n      <td>$13.62</td>\n    </tr>\n    <tr>\n      <th>Idastidru52</th>\n      <td>4</td>\n      <td>$3.86</td>\n      <td>$15.45</td>\n    </tr>\n    <tr>\n      <th>Asur53</th>\n      <td>3</td>\n      <td>$2.48</td>\n      <td>$7.44</td>\n    </tr>\n    <tr>\n      <th>Inguron55</th>\n      <td>3</td>\n      <td>$3.70</td>\n      <td>$11.11</td>\n    </tr>\n    <tr>\n      <th>...</th>\n      <td>...</td>\n      <td>...</td>\n      <td>...</td>\n    </tr>\n    <tr>\n      <th>Hala31</th>\n      <td>1</td>\n      <td>$1.02</td>\n      <td>$1.02</td>\n    </tr>\n    <tr>\n      <th>Haisurra41</th>\n      <td>1</td>\n      <td>$4.40</td>\n      <td>$4.40</td>\n    </tr>\n    <tr>\n      <th>Hailaphos89</th>\n      <td>1</td>\n      <td>$3.81</td>\n      <td>$3.81</td>\n    </tr>\n    <tr>\n      <th>Haestyphos66</th>\n      <td>1</td>\n      <td>$1.97</td>\n      <td>$1.97</td>\n    </tr>\n    <tr>\n      <th>Iskosian40</th>\n      <td>1</td>\n      <td>$3.07</td>\n      <td>$3.07</td>\n    </tr>\n  </tbody>\n</table>\n<p>576 rows × 3 columns</p>\n</div>",
      "text/plain": "              Purchase Count Average Purchase Price Total Purchase Value\nSN                                                                      \nLisosia93                  5                  $3.79               $18.96\nIral74                     4                  $3.40               $13.62\nIdastidru52                4                  $3.86               $15.45\nAsur53                     3                  $2.48                $7.44\nInguron55                  3                  $3.70               $11.11\n...                      ...                    ...                  ...\nHala31                     1                  $1.02                $1.02\nHaisurra41                 1                  $4.40                $4.40\nHailaphos89                1                  $3.81                $3.81\nHaestyphos66               1                  $1.97                $1.97\nIskosian40                 1                  $3.07                $3.07\n\n[576 rows x 3 columns]"
     },
     "execution_count": 10,
     "metadata": {},
     "output_type": "execute_result"
    }
   ],
   "source": [
    "purchase_sliced = purchase_data[[\"SN\", \"Price\"]]\n",
    "ps_grouped = purchase_sliced.groupby(\"SN\")\n",
    "ps_grouped.count()\n",
    "\n",
    "sn_purchases = pd.DataFrame(ps_grouped[\"Price\"].count())\n",
    "sn_purchase_avg = pd.DataFrame(ps_grouped[\"Price\"].mean())\n",
    "sn_purchase_total = pd.DataFrame(ps_grouped.sum())\n",
    "\n",
    "sn_purchases_df = pd.DataFrame()\n",
    "sn_purchases_df[\"Purchase Count\"] = sn_purchases[\"Price\"]\n",
    "sn_purchases_df[\"Average Purchase Price\"] = sn_purchase_avg[\"Price\"]\n",
    "sn_purchases_df[\"Total Purchase Value\"] = sn_purchase_total[\"Price\"]\n",
    "\n",
    "sn_purchases_df[\"Average Purchase Price\"] = sn_purchases_df[\"Average Purchase Price\"].map('${:,.2f}'.format)\n",
    "sn_purchases_df[\"Total Purchase Value\"] = sn_purchases_df[\"Total Purchase Value\"].map('${:,.2f}'.format)\n",
    "\n",
    "sn_purchases_df.sort_values(by= \"Purchase Count\", ascending=False, inplace=True)\n",
    "sn_purchases_df"
   ]
  },
  {
   "cell_type": "markdown",
   "metadata": {},
   "source": [
    "## Most Popular Items"
   ]
  },
  {
   "cell_type": "markdown",
   "metadata": {},
   "source": [
    "* Retrieve the Item ID, Item Name, and Item Price columns\n",
    "\n",
    "\n",
    "* Group by Item ID and Item Name. Perform calculations to obtain purchase count, item price, and total purchase value\n",
    "\n",
    "\n",
    "* Create a summary data frame to hold the results\n",
    "\n",
    "\n",
    "* Sort the purchase count column in descending order\n",
    "\n",
    "\n",
    "* Optional: give the displayed data cleaner formatting\n",
    "\n",
    "\n",
    "* Display a preview of the summary data frame\n",
    "\n"
   ]
  },
  {
   "cell_type": "code",
   "execution_count": 11,
   "metadata": {},
   "outputs": [
    {
     "data": {
      "text/html": "<div>\n<style scoped>\n    .dataframe tbody tr th:only-of-type {\n        vertical-align: middle;\n    }\n\n    .dataframe tbody tr th {\n        vertical-align: top;\n    }\n\n    .dataframe thead th {\n        text-align: right;\n    }\n</style>\n<table border=\"1\" class=\"dataframe\">\n  <thead>\n    <tr style=\"text-align: right;\">\n      <th></th>\n      <th></th>\n      <th>Purchase Count</th>\n      <th>Item Price</th>\n      <th>Total Purchase Value</th>\n    </tr>\n    <tr>\n      <th>Item ID</th>\n      <th>Item Name</th>\n      <th></th>\n      <th></th>\n      <th></th>\n    </tr>\n  </thead>\n  <tbody>\n    <tr>\n      <th>178</th>\n      <th>Oathbreaker, Last Hope of the Breaking Storm</th>\n      <td>12</td>\n      <td>$4.23</td>\n      <td>$50.76</td>\n    </tr>\n    <tr>\n      <th>145</th>\n      <th>Fiery Glass Crusader</th>\n      <td>9</td>\n      <td>$4.58</td>\n      <td>$41.22</td>\n    </tr>\n    <tr>\n      <th>108</th>\n      <th>Extraction, Quickblade Of Trembling Hands</th>\n      <td>9</td>\n      <td>$3.53</td>\n      <td>$31.77</td>\n    </tr>\n    <tr>\n      <th>82</th>\n      <th>Nirvana</th>\n      <td>9</td>\n      <td>$4.90</td>\n      <td>$44.10</td>\n    </tr>\n    <tr>\n      <th>19</th>\n      <th>Pursuit, Cudgel of Necromancy</th>\n      <td>8</td>\n      <td>$1.02</td>\n      <td>$8.16</td>\n    </tr>\n    <tr>\n      <th>...</th>\n      <th>...</th>\n      <td>...</td>\n      <td>...</td>\n      <td>...</td>\n    </tr>\n    <tr>\n      <th>104</th>\n      <th>Gladiator's Glaive</th>\n      <td>1</td>\n      <td>$1.93</td>\n      <td>$1.93</td>\n    </tr>\n    <tr>\n      <th>23</th>\n      <th>Crucifer</th>\n      <td>1</td>\n      <td>$1.99</td>\n      <td>$1.99</td>\n    </tr>\n    <tr>\n      <th>180</th>\n      <th>Stormcaller</th>\n      <td>1</td>\n      <td>$3.36</td>\n      <td>$3.36</td>\n    </tr>\n    <tr>\n      <th>91</th>\n      <th>Celeste</th>\n      <td>1</td>\n      <td>$4.17</td>\n      <td>$4.17</td>\n    </tr>\n    <tr>\n      <th>134</th>\n      <th>Undead Crusader</th>\n      <td>1</td>\n      <td>$4.50</td>\n      <td>$4.50</td>\n    </tr>\n  </tbody>\n</table>\n<p>183 rows × 3 columns</p>\n</div>",
      "text/plain": "                                                      Purchase Count  \\\nItem ID Item Name                                                      \n178     Oathbreaker, Last Hope of the Breaking Storm              12   \n145     Fiery Glass Crusader                                       9   \n108     Extraction, Quickblade Of Trembling Hands                  9   \n82      Nirvana                                                    9   \n19      Pursuit, Cudgel of Necromancy                              8   \n...                                                              ...   \n104     Gladiator's Glaive                                         1   \n23      Crucifer                                                   1   \n180     Stormcaller                                                1   \n91      Celeste                                                    1   \n134     Undead Crusader                                            1   \n\n                                                     Item Price  \\\nItem ID Item Name                                                 \n178     Oathbreaker, Last Hope of the Breaking Storm      $4.23   \n145     Fiery Glass Crusader                              $4.58   \n108     Extraction, Quickblade Of Trembling Hands         $3.53   \n82      Nirvana                                           $4.90   \n19      Pursuit, Cudgel of Necromancy                     $1.02   \n...                                                         ...   \n104     Gladiator's Glaive                                $1.93   \n23      Crucifer                                          $1.99   \n180     Stormcaller                                       $3.36   \n91      Celeste                                           $4.17   \n134     Undead Crusader                                   $4.50   \n\n                                                     Total Purchase Value  \nItem ID Item Name                                                          \n178     Oathbreaker, Last Hope of the Breaking Storm               $50.76  \n145     Fiery Glass Crusader                                       $41.22  \n108     Extraction, Quickblade Of Trembling Hands                  $31.77  \n82      Nirvana                                                    $44.10  \n19      Pursuit, Cudgel of Necromancy                               $8.16  \n...                                                                   ...  \n104     Gladiator's Glaive                                          $1.93  \n23      Crucifer                                                    $1.99  \n180     Stormcaller                                                 $3.36  \n91      Celeste                                                     $4.17  \n134     Undead Crusader                                             $4.50  \n\n[183 rows x 3 columns]"
     },
     "execution_count": 11,
     "metadata": {},
     "output_type": "execute_result"
    }
   ],
   "source": [
    "popularity = purchase_data[[\"Item ID\", \"Item Name\", \"Price\"]]\n",
    "popularity_group = popularity.groupby([\"Item ID\", \"Item Name\"])\n",
    "\n",
    "total_purchases = pd.DataFrame(popularity_group[\"Price\"].count())\n",
    "total_value = pd.DataFrame(popularity_group[\"Price\"].sum())\n",
    "price = total_value/total_purchases\n",
    "\n",
    "pop_items = pd.DataFrame()\n",
    "pop_items[\"Purchase Count\"] = total_purchases[\"Price\"]\n",
    "pop_items[\"Item Price\"] = price\n",
    "pop_items[\"Total Purchase Value\"] = total_value[\"Price\"]\n",
    "\n",
    "pop_items.sort_values(by= \"Purchase Count\" , ascending=False, inplace=True)\n",
    "pop_items[\"Item Price\"] = pop_items[\"Item Price\"].map('${:,.2f}'.format)\n",
    "pop_items[\"Total Purchase Value\"] = pop_items[\"Total Purchase Value\"].map('${:,.2f}'.format)\n",
    "\n",
    "pop_items"
   ]
  },
  {
   "cell_type": "markdown",
   "metadata": {},
   "source": [
    "## Most Profitable Items"
   ]
  },
  {
   "cell_type": "markdown",
   "metadata": {},
   "source": [
    "* Sort the above table by total purchase value in descending order\n",
    "\n",
    "\n",
    "* Optional: give the displayed data cleaner formatting\n",
    "\n",
    "\n",
    "* Display a preview of the data frame\n",
    "\n"
   ]
  },
  {
   "cell_type": "code",
   "execution_count": 12,
   "metadata": {},
   "outputs": [
    {
     "data": {
      "text/html": "<div>\n<style scoped>\n    .dataframe tbody tr th:only-of-type {\n        vertical-align: middle;\n    }\n\n    .dataframe tbody tr th {\n        vertical-align: top;\n    }\n\n    .dataframe thead th {\n        text-align: right;\n    }\n</style>\n<table border=\"1\" class=\"dataframe\">\n  <thead>\n    <tr style=\"text-align: right;\">\n      <th></th>\n      <th></th>\n      <th>Purchase Count</th>\n      <th>Item Price</th>\n      <th>Total Purchase Value</th>\n    </tr>\n    <tr>\n      <th>Item ID</th>\n      <th>Item Name</th>\n      <th></th>\n      <th></th>\n      <th></th>\n    </tr>\n  </thead>\n  <tbody>\n    <tr>\n      <th>178</th>\n      <th>Oathbreaker, Last Hope of the Breaking Storm</th>\n      <td>12</td>\n      <td>$4.23</td>\n      <td>$50.76</td>\n    </tr>\n    <tr>\n      <th>82</th>\n      <th>Nirvana</th>\n      <td>9</td>\n      <td>$4.90</td>\n      <td>$44.10</td>\n    </tr>\n    <tr>\n      <th>145</th>\n      <th>Fiery Glass Crusader</th>\n      <td>9</td>\n      <td>$4.58</td>\n      <td>$41.22</td>\n    </tr>\n    <tr>\n      <th>92</th>\n      <th>Final Critic</th>\n      <td>8</td>\n      <td>$4.88</td>\n      <td>$39.04</td>\n    </tr>\n    <tr>\n      <th>103</th>\n      <th>Singed Scalpel</th>\n      <td>8</td>\n      <td>$4.35</td>\n      <td>$34.80</td>\n    </tr>\n    <tr>\n      <th>...</th>\n      <th>...</th>\n      <td>...</td>\n      <td>...</td>\n      <td>...</td>\n    </tr>\n    <tr>\n      <th>125</th>\n      <th>Whistling Mithril Warblade</th>\n      <td>2</td>\n      <td>$1.00</td>\n      <td>$2.00</td>\n    </tr>\n    <tr>\n      <th>126</th>\n      <th>Exiled Mithril Longsword</th>\n      <td>1</td>\n      <td>$2.00</td>\n      <td>$2.00</td>\n    </tr>\n    <tr>\n      <th>23</th>\n      <th>Crucifer</th>\n      <td>1</td>\n      <td>$1.99</td>\n      <td>$1.99</td>\n    </tr>\n    <tr>\n      <th>104</th>\n      <th>Gladiator's Glaive</th>\n      <td>1</td>\n      <td>$1.93</td>\n      <td>$1.93</td>\n    </tr>\n    <tr>\n      <th>42</th>\n      <th>The Decapitator</th>\n      <td>1</td>\n      <td>$1.75</td>\n      <td>$1.75</td>\n    </tr>\n  </tbody>\n</table>\n<p>183 rows × 3 columns</p>\n</div>",
      "text/plain": "                                                      Purchase Count  \\\nItem ID Item Name                                                      \n178     Oathbreaker, Last Hope of the Breaking Storm              12   \n82      Nirvana                                                    9   \n145     Fiery Glass Crusader                                       9   \n92      Final Critic                                               8   \n103     Singed Scalpel                                             8   \n...                                                              ...   \n125     Whistling Mithril Warblade                                 2   \n126     Exiled Mithril Longsword                                   1   \n23      Crucifer                                                   1   \n104     Gladiator's Glaive                                         1   \n42      The Decapitator                                            1   \n\n                                                     Item Price  \\\nItem ID Item Name                                                 \n178     Oathbreaker, Last Hope of the Breaking Storm      $4.23   \n82      Nirvana                                           $4.90   \n145     Fiery Glass Crusader                              $4.58   \n92      Final Critic                                      $4.88   \n103     Singed Scalpel                                    $4.35   \n...                                                         ...   \n125     Whistling Mithril Warblade                        $1.00   \n126     Exiled Mithril Longsword                          $2.00   \n23      Crucifer                                          $1.99   \n104     Gladiator's Glaive                                $1.93   \n42      The Decapitator                                   $1.75   \n\n                                                     Total Purchase Value  \nItem ID Item Name                                                          \n178     Oathbreaker, Last Hope of the Breaking Storm               $50.76  \n82      Nirvana                                                    $44.10  \n145     Fiery Glass Crusader                                       $41.22  \n92      Final Critic                                               $39.04  \n103     Singed Scalpel                                             $34.80  \n...                                                                   ...  \n125     Whistling Mithril Warblade                                  $2.00  \n126     Exiled Mithril Longsword                                    $2.00  \n23      Crucifer                                                    $1.99  \n104     Gladiator's Glaive                                          $1.93  \n42      The Decapitator                                             $1.75  \n\n[183 rows x 3 columns]"
     },
     "execution_count": 12,
     "metadata": {},
     "output_type": "execute_result"
    }
   ],
   "source": [
    "pop_items1 = pd.DataFrame()\n",
    "pop_items1[\"Purchase Count\"] = total_purchases[\"Price\"]\n",
    "pop_items1[\"Item Price\"] = price\n",
    "pop_items1[\"Total Purchase Value\"] = total_value[\"Price\"]\n",
    "\n",
    "pop_items1.sort_values(by= \"Total Purchase Value\" , ascending=False, inplace=True)\n",
    "\n",
    "pop_items1[\"Item Price\"] = pop_items1[\"Item Price\"].map('${:,.2f}'.format)\n",
    "pop_items1[\"Total Purchase Value\"] = pop_items1[\"Total Purchase Value\"].map('${:,.2f}'.format)\n",
    "\n",
    "pop_items1"
   ]
  },
  {
   "cell_type": "code",
   "execution_count": null,
   "metadata": {},
   "outputs": [],
   "source": []
  }
 ],
 "metadata": {
  "anaconda-cloud": {},
  "kernel_info": {
   "name": "python3"
  },
  "kernelspec": {
   "display_name": "Python 3.6.10 64-bit ('PythonData': conda)",
   "language": "python",
   "name": "python361064bitpythondataconda702a049063da4b8fb25107aa449393fc"
  },
  "language_info": {
   "codemirror_mode": {
    "name": "ipython",
    "version": 3
   },
   "file_extension": ".py",
   "mimetype": "text/x-python",
   "name": "python",
   "nbconvert_exporter": "python",
   "pygments_lexer": "ipython3",
   "version": "3.7.4-final"
  },
  "latex_envs": {
   "LaTeX_envs_menu_present": true,
   "autoclose": false,
   "autocomplete": true,
   "bibliofile": "biblio.bib",
   "cite_by": "apalike",
   "current_citInitial": 1,
   "eqLabelWithNumbers": true,
   "eqNumInitial": 1,
   "hotkeys": {
    "equation": "Ctrl-E",
    "itemize": "Ctrl-I"
   },
   "labels_anchors": false,
   "latex_user_defs": false,
   "report_style_numbering": false,
   "user_envs_cfg": false
  },
  "nteract": {
   "version": "0.2.0"
  }
 },
 "nbformat": 4,
 "nbformat_minor": 2
}